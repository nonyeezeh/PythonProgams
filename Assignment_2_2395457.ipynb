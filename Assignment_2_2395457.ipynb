{
  "nbformat": 4,
  "nbformat_minor": 0,
  "metadata": {
    "colab": {
      "provenance": [],
      "authorship_tag": "ABX9TyNL3Wr6qn2GXFe3HULmgIf0",
      "include_colab_link": true
    },
    "kernelspec": {
      "name": "python3",
      "display_name": "Python 3"
    },
    "language_info": {
      "name": "python"
    }
  },
  "cells": [
    {
      "cell_type": "markdown",
      "metadata": {
        "id": "view-in-github",
        "colab_type": "text"
      },
      "source": [
        "<a href=\"https://colab.research.google.com/github/nonyeezeh/PythonProgams/blob/main/Assignment_2_2395457.ipynb\" target=\"_parent\"><img src=\"https://colab.research.google.com/assets/colab-badge.svg\" alt=\"Open In Colab\"/></a>"
      ]
    },
    {
      "cell_type": "code",
      "execution_count": 1,
      "metadata": {
        "id": "PoBH9-jOCOuR"
      },
      "outputs": [],
      "source": [
        "import numpy as np\n",
        "import random"
      ]
    },
    {
      "cell_type": "markdown",
      "source": [
        "# Question 1"
      ],
      "metadata": {
        "id": "vaq84k8AL24m"
      }
    },
    {
      "cell_type": "code",
      "source": [
        "# Parameters\n",
        "N = 20  # Population size\n",
        "m = 6  # Number of children per iteration\n",
        "n = 16  # Number of items\n",
        "max_iteration = 40  # Maximum iterations\n",
        "W = 25  # Capacity of knapsack\n",
        "R = 50  # Penalty parameter\n",
        "pc = 1  # Crossover probability\n",
        "pm = 1e-3  # Mutation probability\n",
        "\n",
        "# Item values (v_i) and weights (w_i)\n",
        "items = [\n",
        "    (6, 3), (8, 5), (3, 4), (4, 7), (5, 4), (9, 10),\n",
        "    (11, 3), (12, 6), (6,8), (8, 14), (13, 4), (15, 9),\n",
        "    (16, 10), (13, 11), (9, 17), (25, 12)\n",
        "]\n",
        "values = [v for v, w in items]\n",
        "weights = [w for v, w in items]"
      ],
      "metadata": {
        "id": "ofmodrOXCWJt"
      },
      "execution_count": 31,
      "outputs": []
    },
    {
      "cell_type": "code",
      "source": [
        "# Define objective function\n",
        "def obj(x, values, weights, W, R):\n",
        "    total_value = 0\n",
        "    total_weight = 0\n",
        "    phi = 0\n",
        "\n",
        "    for i in range(n):\n",
        "        total_value += values[i] * x[i]\n",
        "        total_weight += weights[i] * x[i]\n",
        "\n",
        "    if total_weight > W:\n",
        "        phi = total_weight - W\n",
        "\n",
        "    return total_value - R * phi"
      ],
      "metadata": {
        "id": "PwSteKPzCWBV"
      },
      "execution_count": 32,
      "outputs": []
    },
    {
      "cell_type": "code",
      "source": [
        "# Initialize population\n",
        "pop = np.zeros((N, n + 1))  # Each row is a solution + objective value\n",
        "\n",
        "for i in range(N):\n",
        "    for j in range(n):\n",
        "        # Initialize each element with 0 or 1 randomly (similar to your pseudocode: if random < 1/2 then 1, else 0)\n",
        "        pop[i, j] = 1 if random.random() < 0.5 else 0\n",
        "\n",
        "    # Calculate the objective value for the solution\n",
        "    pop[i, -1] = obj(pop[i, :-1], values, weights, W, R)\n",
        "\n",
        "# Sort population by fitness (objective value), from lower to higher\n",
        "pop = pop[np.argsort(pop[:, -1])]\n",
        "\n",
        "# Print the initialized population for verification\n",
        "print(\"Initialized Population:\\n\", pop)"
      ],
      "metadata": {
        "colab": {
          "base_uri": "https://localhost:8080/"
        },
        "collapsed": true,
        "id": "B88DHK2yCV6O",
        "outputId": "afca14d9-ea8f-41c7-a2c3-058f7b07f3b1"
      },
      "execution_count": 33,
      "outputs": [
        {
          "output_type": "stream",
          "name": "stdout",
          "text": [
            "Initialized Population:\n",
            " [[ 0.000e+00  1.000e+00  0.000e+00  0.000e+00  1.000e+00  1.000e+00\n",
            "   0.000e+00  0.000e+00  1.000e+00  1.000e+00  1.000e+00  1.000e+00\n",
            "   1.000e+00  1.000e+00  1.000e+00  0.000e+00 -3.248e+03]\n",
            " [ 0.000e+00  1.000e+00  1.000e+00  1.000e+00  0.000e+00  1.000e+00\n",
            "   1.000e+00  1.000e+00  0.000e+00  0.000e+00  1.000e+00  1.000e+00\n",
            "   1.000e+00  1.000e+00  1.000e+00  0.000e+00 -2.937e+03]\n",
            " [ 0.000e+00  1.000e+00  1.000e+00  0.000e+00  1.000e+00  1.000e+00\n",
            "   0.000e+00  0.000e+00  1.000e+00  1.000e+00  0.000e+00  0.000e+00\n",
            "   1.000e+00  1.000e+00  1.000e+00  0.000e+00 -2.823e+03]\n",
            " [ 1.000e+00  0.000e+00  1.000e+00  0.000e+00  1.000e+00  1.000e+00\n",
            "   1.000e+00  1.000e+00  1.000e+00  1.000e+00  0.000e+00  0.000e+00\n",
            "   0.000e+00  0.000e+00  1.000e+00  1.000e+00 -2.706e+03]\n",
            " [ 0.000e+00  0.000e+00  0.000e+00  0.000e+00  1.000e+00  1.000e+00\n",
            "   0.000e+00  1.000e+00  0.000e+00  0.000e+00  0.000e+00  1.000e+00\n",
            "   0.000e+00  1.000e+00  1.000e+00  1.000e+00 -2.112e+03]\n",
            " [ 0.000e+00  0.000e+00  0.000e+00  1.000e+00  1.000e+00  0.000e+00\n",
            "   1.000e+00  1.000e+00  1.000e+00  1.000e+00  1.000e+00  0.000e+00\n",
            "   1.000e+00  0.000e+00  0.000e+00  1.000e+00 -2.050e+03]\n",
            " [ 1.000e+00  1.000e+00  1.000e+00  1.000e+00  1.000e+00  1.000e+00\n",
            "   0.000e+00  1.000e+00  0.000e+00  0.000e+00  1.000e+00  0.000e+00\n",
            "   1.000e+00  1.000e+00  0.000e+00  0.000e+00 -1.861e+03]\n",
            " [ 1.000e+00  0.000e+00  0.000e+00  1.000e+00  1.000e+00  0.000e+00\n",
            "   1.000e+00  0.000e+00  1.000e+00  0.000e+00  0.000e+00  0.000e+00\n",
            "   1.000e+00  1.000e+00  1.000e+00  0.000e+00 -1.830e+03]\n",
            " [ 1.000e+00  0.000e+00  1.000e+00  1.000e+00  1.000e+00  0.000e+00\n",
            "   1.000e+00  1.000e+00  0.000e+00  0.000e+00  0.000e+00  1.000e+00\n",
            "   1.000e+00  0.000e+00  1.000e+00  0.000e+00 -1.819e+03]\n",
            " [ 0.000e+00  0.000e+00  0.000e+00  1.000e+00  0.000e+00  1.000e+00\n",
            "   0.000e+00  0.000e+00  0.000e+00  1.000e+00  1.000e+00  1.000e+00\n",
            "   0.000e+00  0.000e+00  1.000e+00  0.000e+00 -1.742e+03]\n",
            " [ 0.000e+00  0.000e+00  0.000e+00  0.000e+00  1.000e+00  1.000e+00\n",
            "   0.000e+00  0.000e+00  1.000e+00  1.000e+00  1.000e+00  1.000e+00\n",
            "   0.000e+00  1.000e+00  0.000e+00  0.000e+00 -1.681e+03]\n",
            " [ 0.000e+00  0.000e+00  1.000e+00  1.000e+00  0.000e+00  0.000e+00\n",
            "   1.000e+00  0.000e+00  1.000e+00  1.000e+00  1.000e+00  1.000e+00\n",
            "   1.000e+00  0.000e+00  0.000e+00  0.000e+00 -1.624e+03]\n",
            " [ 1.000e+00  1.000e+00  1.000e+00  1.000e+00  0.000e+00  0.000e+00\n",
            "   1.000e+00  0.000e+00  1.000e+00  1.000e+00  1.000e+00  0.000e+00\n",
            "   1.000e+00  0.000e+00  0.000e+00  0.000e+00 -1.575e+03]\n",
            " [ 0.000e+00  1.000e+00  0.000e+00  0.000e+00  1.000e+00  1.000e+00\n",
            "   0.000e+00  0.000e+00  1.000e+00  1.000e+00  0.000e+00  0.000e+00\n",
            "   0.000e+00  1.000e+00  0.000e+00  0.000e+00 -1.301e+03]\n",
            " [ 1.000e+00  0.000e+00  1.000e+00  1.000e+00  1.000e+00  1.000e+00\n",
            "   0.000e+00  1.000e+00  0.000e+00  0.000e+00  1.000e+00  0.000e+00\n",
            "   0.000e+00  0.000e+00  0.000e+00  1.000e+00 -1.173e+03]\n",
            " [ 0.000e+00  1.000e+00  1.000e+00  0.000e+00  0.000e+00  0.000e+00\n",
            "   1.000e+00  1.000e+00  1.000e+00  0.000e+00  1.000e+00  0.000e+00\n",
            "   0.000e+00  0.000e+00  1.000e+00  0.000e+00 -1.038e+03]\n",
            " [ 1.000e+00  1.000e+00  0.000e+00  1.000e+00  1.000e+00  0.000e+00\n",
            "   0.000e+00  0.000e+00  1.000e+00  0.000e+00  1.000e+00  0.000e+00\n",
            "   0.000e+00  1.000e+00  0.000e+00  0.000e+00 -7.950e+02]\n",
            " [ 1.000e+00  0.000e+00  0.000e+00  0.000e+00  1.000e+00  1.000e+00\n",
            "   1.000e+00  0.000e+00  0.000e+00  0.000e+00  0.000e+00  1.000e+00\n",
            "   0.000e+00  1.000e+00  0.000e+00  0.000e+00 -6.910e+02]\n",
            " [ 0.000e+00  0.000e+00  0.000e+00  0.000e+00  0.000e+00  1.000e+00\n",
            "   0.000e+00  1.000e+00  0.000e+00  0.000e+00  0.000e+00  0.000e+00\n",
            "   1.000e+00  0.000e+00  0.000e+00  0.000e+00 -1.300e+01]\n",
            " [ 0.000e+00  1.000e+00  0.000e+00  0.000e+00  0.000e+00  0.000e+00\n",
            "   0.000e+00  0.000e+00  0.000e+00  0.000e+00  0.000e+00  1.000e+00\n",
            "   0.000e+00  0.000e+00  0.000e+00  1.000e+00 -2.000e+00]]\n"
          ]
        }
      ]
    },
    {
      "cell_type": "code",
      "source": [
        "# Sort population by fitness (lower to higher)\n",
        "pop = pop[pop[:, -1].argsort()]\n",
        "\n",
        "# Main GA loop\n",
        "for iteration in range(max_iteration):\n",
        "    children = []\n",
        "\n",
        "    for k in range(1, m + 1, 2):  # Generate pairs of children\n",
        "        # Select parents using tournament selection\n",
        "        p1, p2 = 0, 0\n",
        "        while p1 == p2:\n",
        "            p1 = random.randint(0, N - 1)\n",
        "            p2 = random.randint(0, N - 1)\n",
        "\n",
        "        if pop[p1, -1] > pop[p2, -1]:\n",
        "            parent1 = p1\n",
        "        else:\n",
        "            parent1 = p2\n",
        "\n",
        "        while p1 == p2:\n",
        "            p1 = random.randint(0, N - 1)\n",
        "            p2 = random.randint(0, N - 1)\n",
        "\n",
        "        if pop[p1, -1] > pop[p2, -1]:\n",
        "            parent2 = p1\n",
        "        else:\n",
        "            parent2 = p2\n",
        "\n",
        "        # Crossover\n",
        "        x, y = pop[parent1, :-1].copy(), pop[parent2, :-1].copy()\n",
        "        for j in range(n):\n",
        "            if random.random() < 0.5:\n",
        "                x[j], y[j] = y[j], x[j]\n",
        "\n",
        "        # Mutation\n",
        "        for j in range(n):\n",
        "            if random.random() < pm:\n",
        "                x[j] = 1 - x[j]\n",
        "            if random.random() < pm:\n",
        "                y[j] = 1 - y[j]\n",
        "\n",
        "        # Calculate fitness\n",
        "        children.append(np.append(x, obj(x, values, weights, W, R)))\n",
        "        children.append(np.append(y, obj(y, values, weights, W, R)))\n",
        "\n",
        "    # Replace worst solutions with children (elitism)\n",
        "    pop = np.vstack((pop, children))\n",
        "    pop = pop[pop[:, -1].argsort()][:N]\n",
        "\n",
        "# Print the best solution\n",
        "best_solution = pop[0, :-1]\n",
        "best_value = pop[0, -1]\n",
        "\n",
        "# Print the best solution\n",
        "best_solution = pop[0, :-1]  # Extract the binary solution part\n",
        "best_value = pop[0, -1]      # Extract the best objective value\n",
        "\n",
        "# Print the output as required\n",
        "print(\"Best Solution (Binary Representation):\", best_solution)  # Shows the binary representation\n",
        "print(\"Best Value:\", best_value)  # Shows the corresponding best value\n",
        "\n",
        "# Extract and print the actual selected items\n",
        "selected_items = [items[i] for i in range(n) if best_solution[i] == 1]  # Get the selected items based on binary solution\n",
        "print(\"Selected Items (value, weight):\", selected_items)  # Show the actual items chosen"
      ],
      "metadata": {
        "colab": {
          "base_uri": "https://localhost:8080/"
        },
        "id": "Gc4-u--_CVsF",
        "outputId": "695d2197-f117-4761-af12-28536540478a"
      },
      "execution_count": 35,
      "outputs": [
        {
          "output_type": "stream",
          "name": "stdout",
          "text": [
            "Best Solution (Binary Representation): [0. 1. 0. 0. 1. 1. 0. 0. 1. 1. 1. 1. 1. 1. 1. 0.]\n",
            "Best Value: -3248.0\n",
            "Selected Items (value, weight): [(8, 5), (5, 4), (9, 10), (6, 8), (8, 14), (13, 4), (15, 9), (16, 10), (13, 11), (9, 17)]\n"
          ]
        }
      ]
    },
    {
      "cell_type": "markdown",
      "source": [
        "# Question 2"
      ],
      "metadata": {
        "id": "NBeDlCzjL5Ts"
      }
    },
    {
      "cell_type": "code",
      "source": [
        "# Initial solution: x0\n",
        "x0 = [0 if i % 2 == 0 else 1 for i in range(n)]\n",
        "f_x0 = obj(x0, values, weights, W, R)\n",
        "x_max = x0[:]\n",
        "f_max = f_x0\n",
        "flag = 1\n",
        "Pass = 1"
      ],
      "metadata": {
        "id": "LAkqZj4SMoId"
      },
      "execution_count": 38,
      "outputs": []
    },
    {
      "cell_type": "code",
      "source": [
        "# FM Algorithm\n",
        "while flag == 1:\n",
        "    flag = 0\n",
        "    Epoch = 0\n",
        "    F = list(range(n))  # Unlocked variables\n",
        "    L = []  # Locked variables\n",
        "\n",
        "    while len(F) > 0:\n",
        "        best_epoch_value = -float('inf')\n",
        "        best_epoch_solution = None\n",
        "\n",
        "        for i in F:\n",
        "            # Flip the i-th variable in the current solution\n",
        "            x_new = x_max[:]\n",
        "            x_new[i] = 1 - x_new[i]  # Flip (0 to 1 or 1 to 0)\n",
        "\n",
        "            # Calculate the new objective value\n",
        "            f_new = obj(x_new, values, weights, W, R)\n",
        "\n",
        "            # Keep track of the best solution in the current epoch\n",
        "            if f_new > best_epoch_value:\n",
        "                best_epoch_value = f_new\n",
        "                best_epoch_solution = x_new\n",
        "\n",
        "        # Update F and L\n",
        "        best_index = F.pop(F.index(i))  # Remove the best index from F\n",
        "        L.append(best_index)  # Add to locked variables\n",
        "        Epoch += 1\n",
        "\n",
        "        # If the current epoch yields a better solution, update\n",
        "        if best_epoch_value > f_max:\n",
        "            x_max = best_epoch_solution[:]\n",
        "            f_max = best_epoch_value\n",
        "            flag = 1\n",
        "\n",
        "    # End of pass, update flag and continue if improvement is found\n",
        "    if f_max > f_x0:\n",
        "        f_x0 = f_max\n",
        "        x0 = x_max[:]\n",
        "        flag = 1\n",
        "        Pass += 1"
      ],
      "metadata": {
        "id": "-gakhhujL7a6"
      },
      "execution_count": 39,
      "outputs": []
    },
    {
      "cell_type": "code",
      "source": [
        "# Final output\n",
        "print(\"Best Solution (Binary Representation):\", x_max)\n",
        "print(\"Best Value:\", f_max)"
      ],
      "metadata": {
        "colab": {
          "base_uri": "https://localhost:8080/"
        },
        "id": "75hOsItSMp8L",
        "outputId": "bcdd4b61-f974-467c-d955-0c72bfba1fff"
      },
      "execution_count": 40,
      "outputs": [
        {
          "output_type": "stream",
          "name": "stdout",
          "text": [
            "Best Solution (Binary Representation): [0, 1, 0, 0, 0, 0, 0, 1, 0, 0, 0, 0, 0, 0, 0, 1]\n",
            "Best Value: 45\n"
          ]
        }
      ]
    },
    {
      "cell_type": "code",
      "source": [
        "# Extract and print the actual selected items\n",
        "selected_items = [items[i] for i in range(n) if x_max[i] == 1]\n",
        "print(\"Selected Items (value, weight):\", selected_items)"
      ],
      "metadata": {
        "colab": {
          "base_uri": "https://localhost:8080/"
        },
        "id": "vlfhLNggMrah",
        "outputId": "7866ec46-91bc-49ac-be7f-32bd9e80d21b"
      },
      "execution_count": 41,
      "outputs": [
        {
          "output_type": "stream",
          "name": "stdout",
          "text": [
            "Selected Items (value, weight): [(8, 5), (12, 6), (25, 12)]\n"
          ]
        }
      ]
    }
  ]
}